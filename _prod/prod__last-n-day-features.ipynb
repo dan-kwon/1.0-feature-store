{
 "cells": [
  {
   "cell_type": "markdown",
   "metadata": {
    "application/vnd.databricks.v1+cell": {
     "cellMetadata": {},
     "inputWidgets": {},
     "nuid": "3f1a2f7f-80ac-49c1-97f9-6949f4fa9c28",
     "showTitle": false,
     "title": ""
    }
   },
   "source": [
    "## DS first-n-day features\n",
    "A variety of helpful aggregated tables that hold data and features used in various data science models"
   ]
  },
  {
   "cell_type": "markdown",
   "metadata": {
    "application/vnd.databricks.v1+cell": {
     "cellMetadata": {},
     "inputWidgets": {},
     "nuid": "11b68a57-173b-4cc6-9890-18222c44e502",
     "showTitle": false,
     "title": ""
    }
   },
   "source": [
    "#### Load necessary UDFs and libraries"
   ]
  },
  {
   "cell_type": "code",
   "execution_count": 0,
   "metadata": {
    "application/vnd.databricks.v1+cell": {
     "cellMetadata": {},
     "inputWidgets": {},
     "nuid": "af2173f5-3aef-4b3b-ad69-a43afbc32545",
     "showTitle": false,
     "title": ""
    }
   },
   "outputs": [],
   "source": [
    "%run \"./prod__helper_library_last-n-days\""
   ]
  },
  {
   "cell_type": "code",
   "execution_count": 0,
   "metadata": {
    "application/vnd.databricks.v1+cell": {
     "cellMetadata": {},
     "inputWidgets": {},
     "nuid": "9e090b8b-282f-45d5-978e-786e9d19b93e",
     "showTitle": false,
     "title": ""
    }
   },
   "outputs": [],
   "source": [
    "# libraries\n",
    "import numpy as np\n",
    "import pandas as pd\n",
    "from datetime import datetime\n",
    "from pyspark.sql import functions as F\n",
    "from dateutil.relativedelta import relativedelta\n",
    "# global variables\n",
    "today = datetime.today()"
   ]
  },
  {
   "cell_type": "markdown",
   "metadata": {
    "application/vnd.databricks.v1+cell": {
     "cellMetadata": {},
     "inputWidgets": {},
     "nuid": "1ade448f-c5c9-4881-bcbb-9955313dd8aa",
     "showTitle": false,
     "title": ""
    }
   },
   "source": [
    "#### Set date"
   ]
  },
  {
   "cell_type": "code",
   "execution_count": 0,
   "metadata": {
    "application/vnd.databricks.v1+cell": {
     "cellMetadata": {},
     "inputWidgets": {},
     "nuid": "a8369415-c21b-4a4d-971a-eca597711564",
     "showTitle": false,
     "title": ""
    }
   },
   "outputs": [],
   "source": [
    "dbutils.widgets.removeAll()"
   ]
  },
  {
   "cell_type": "code",
   "execution_count": 0,
   "metadata": {
    "application/vnd.databricks.v1+cell": {
     "cellMetadata": {},
     "inputWidgets": {},
     "nuid": "c51f5c52-0774-4f88-978d-5b79218f849f",
     "showTitle": false,
     "title": ""
    }
   },
   "outputs": [],
   "source": [
    "dbutils.widgets.text(name=\"specified_date\", \n",
    "                     defaultValue=str(today.date() - relativedelta(days=1)), \n",
    "                     label=\"Specified Date\")\n",
    "\n",
    "dbutils.widgets.text(name=\"horizon_days\",\n",
    "                     defaultValue=str(28), \n",
    "                     label=\"Horizon Days\")\n",
    "\n",
    "dbutils.widgets.text(name=\"event_feature_table_name\", \n",
    "                     defaultValue=\"ds_staging.features__events_last_n_days\", \n",
    "                     label=\"Destination Event Feature Table Name\")\n",
    "\n",
    "dbutils.widgets.text(name=\"engagement_feature_table_name\", \n",
    "                     defaultValue=\"ds_staging.features__engagement_last_n_days\", \n",
    "                     label=\"Destination Engagement Feature Table Name\")"
   ]
  },
  {
   "cell_type": "code",
   "execution_count": 0,
   "metadata": {
    "application/vnd.databricks.v1+cell": {
     "cellMetadata": {},
     "inputWidgets": {},
     "nuid": "1b8cda51-e4c5-4747-b4b8-6dca5636c4e6",
     "showTitle": false,
     "title": ""
    }
   },
   "outputs": [],
   "source": [
    "PAID_SUBSCRIPTION_END_DATE = dbutils.widgets.get(\"specified_date\")\n",
    "HORIZON_DAYS               = int(dbutils.widgets.get(\"horizon_days\"))\n",
    "EVENT_TABLE_NAME           = dbutils.widgets.get(\"event_feature_table_name\")\n",
    "ENGAGEMENT_TABLE_NAME      = dbutils.widgets.get(\"engagement_feature_table_name\")"
   ]
  },
  {
   "cell_type": "markdown",
   "metadata": {
    "application/vnd.databricks.v1+cell": {
     "cellMetadata": {},
     "inputWidgets": {},
     "nuid": "bf837425-9ac0-45e0-a8ef-e610551f00d1",
     "showTitle": false,
     "title": ""
    }
   },
   "source": [
    "#### Create engagement features"
   ]
  },
  {
   "cell_type": "code",
   "execution_count": 0,
   "metadata": {
    "application/vnd.databricks.v1+cell": {
     "cellMetadata": {},
     "inputWidgets": {},
     "nuid": "78b2c1d3-b204-4b46-8573-dfdd7bb1692c",
     "showTitle": false,
     "title": ""
    }
   },
   "outputs": [],
   "source": [
    "# new users\n",
    "spark.conf.set(\"spark.sql.autoBroadcastJoinThreshold\", -1)\n",
    "\n",
    "for i in [PAID_SUBSCRIPTION_END_DATE]: #[pd.to_datetime(\"2021-12-31\").date() - timedelta(days=x) for x in range(365)] \n",
    "  paid_subscription_end_date = str(i)\n",
    "  df1 = get_last_engagement(HORIZON_DAYS, paid_subscription_end_date)\n",
    "  df1 = df1 \\\n",
    "    .groupBy(\"hs_user_id\",\"paid_subscription_end_date\") \\\n",
    "    .pivot(\"days_until_cancel\") \\\n",
    "    .agg(*[F.sum(x).alias(x) for x in df1.columns if x not in {\"hs_user_id\",\n",
    "                                                               \"free_trial_start_date\",\n",
    "                                                               \"free_trial_end_date\",\n",
    "                                                               \"paid_subscription_start_date\",\n",
    "                                                               \"paid_subscription_end_date\",\n",
    "                                                               \"days_until_cancel\"}])\n",
    "  \n",
    "  df2 = get_last_distinct_engagement(HORIZON_DAYS-1, paid_subscription_end_date) \n",
    "  df2 = df2 \\\n",
    "    .groupBy(\"hs_user_id\",\"paid_subscription_end_date\") \\\n",
    "    .pivot(\"weeks_until_cancel\") \\\n",
    "    .agg(*[F.sum(x).alias(x) for x in df2.columns if x not in {\"hs_user_id\",\n",
    "                                                               \"weeks_until_cancel\",\n",
    "                                                               \"free_trial_start_date\",\n",
    "                                                               \"free_trial_end_date\",\n",
    "                                                               \"paid_subscription_start_date\",\n",
    "                                                               \"paid_subscription_end_date\",\n",
    "                                                               \"days_until_cancel\"}])\n",
    "  \n",
    "  df3 = df1.join(df2, how='left', on=['hs_user_id','paid_subscription_end_date'])\n",
    "  df3.na.fill(0) \\\n",
    "    .write \\\n",
    "    .mode('append') \\\n",
    "    .option(\"mergeSchema\", \"true\") \\\n",
    "    .saveAsTable(ENGAGEMENT_TABLE_NAME)"
   ]
  },
  {
   "cell_type": "markdown",
   "metadata": {
    "application/vnd.databricks.v1+cell": {
     "cellMetadata": {},
     "inputWidgets": {},
     "nuid": "21e9607c-bf6c-4465-ba73-cf128476f2cd",
     "showTitle": false,
     "title": ""
    }
   },
   "source": [
    "#### Create event features"
   ]
  },
  {
   "cell_type": "code",
   "execution_count": 0,
   "metadata": {
    "application/vnd.databricks.v1+cell": {
     "cellMetadata": {},
     "inputWidgets": {},
     "nuid": "04c32e65-16ee-49f7-aa8b-dce044295c50",
     "showTitle": false,
     "title": ""
    }
   },
   "outputs": [],
   "source": [
    "# new users\n",
    "spark.conf.set(\"spark.sql.autoBroadcastJoinThreshold\", -1)\n",
    "\n",
    "for i in [PAID_SUBSCRIPTION_END_DATE]: #[pd.to_datetime(\"2021-12-31\").date() - timedelta(days=x) for x in range(365)] \n",
    "  paid_subscription_end_date = str(i)\n",
    "  df1 = get_last_events(HORIZON_DAYS, paid_subscription_end_date)\n",
    "  df1 = df1 \\\n",
    "    .groupBy(\"hs_user_id\",\"paid_subscription_end_date\") \\\n",
    "    .pivot(\"days_until_cancel\") \\\n",
    "    .agg(*[F.sum(x).alias(x) for x in df1.columns if x not in {\"hs_user_id\",\n",
    "                                                               \"free_trial_start_date\",\n",
    "                                                               \"free_trial_end_date\",\n",
    "                                                               \"paid_subscription_start_date\",\n",
    "                                                               \"paid_subscription_end_date\",\n",
    "                                                               \"days_until_cancel\"}])\n",
    "  \n",
    "  df2 = get_last_distinct_events(HORIZON_DAYS-1, paid_subscription_end_date) \n",
    "  df2 = df2 \\\n",
    "    .groupBy(\"hs_user_id\",\"paid_subscription_end_date\") \\\n",
    "    .pivot(\"weeks_until_cancel\") \\\n",
    "    .agg(*[F.sum(x).alias(x) for x in df2.columns if x not in {\"hs_user_id\",\n",
    "                                                               \"weeks_until_cancel\",\n",
    "                                                               \"free_trial_start_date\",\n",
    "                                                               \"free_trial_end_date\",\n",
    "                                                               \"paid_subscription_start_date\",\n",
    "                                                               \"paid_subscription_end_date\",\n",
    "                                                               \"days_until_cancel\"}])\n",
    "  \n",
    "  df3 = df1.join(df2, how='left', on=['hs_user_id','paid_subscription_end_date'])\n",
    "  df3.na.fill(0) \\\n",
    "    .write \\\n",
    "    .mode('append') \\\n",
    "    .option(\"mergeSchema\", \"true\") \\\n",
    "    .saveAsTable(EVENT_TABLE_NAME)"
   ]
  }
 ],
 "metadata": {
  "application/vnd.databricks.v1+notebook": {
   "dashboards": [],
   "language": "python",
   "notebookMetadata": {},
   "notebookName": "prod__last-n-day-features",
   "widgets": {}
  }
 },
 "nbformat": 4,
 "nbformat_minor": 0
}
