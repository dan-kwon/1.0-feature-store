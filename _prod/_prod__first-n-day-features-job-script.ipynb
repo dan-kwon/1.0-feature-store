{
 "cells": [
  {
   "cell_type": "code",
   "execution_count": 0,
   "metadata": {
    "application/vnd.databricks.v1+cell": {
     "cellMetadata": {},
     "inputWidgets": {},
     "nuid": "dd5f1ada-b972-40a9-b2c4-f4e0128b98c7",
     "showTitle": false,
     "title": ""
    }
   },
   "outputs": [],
   "source": [
    "# libraries\n",
    "import pandas as pd\n",
    "from datetime import datetime\n",
    "from pyspark.sql import functions as F\n",
    "from dateutil.relativedelta import relativedelta\n",
    "# global variables\n",
    "today = datetime.today()"
   ]
  },
  {
   "cell_type": "code",
   "execution_count": 0,
   "metadata": {
    "application/vnd.databricks.v1+cell": {
     "cellMetadata": {},
     "inputWidgets": {},
     "nuid": "bcddce31-629b-485b-aa69-1da2c7a337d0",
     "showTitle": false,
     "title": ""
    }
   },
   "outputs": [],
   "source": [
    "DATE_7DAYS_AGO  = str(today.date() - relativedelta(days=7))\n",
    "DATE_28DAYS_AGO = str(today.date() - relativedelta(days=28))"
   ]
  },
  {
   "cell_type": "code",
   "execution_count": 0,
   "metadata": {
    "application/vnd.databricks.v1+cell": {
     "cellMetadata": {},
     "inputWidgets": {},
     "nuid": "ebafa243-ad3c-4cf6-b0d3-cd972b8e4766",
     "showTitle": false,
     "title": ""
    }
   },
   "outputs": [],
   "source": [
    "dbutils.notebook.run(\"prod__first-n-day-features\", 60*45, {\"specified_date\":                DATE_28DAYS_AGO,\n",
    "                                                           \"event_feature_table_name\":      \"ds_staging.features__events_first_n_days\",\n",
    "                                                           \"engagement_feature_table_name\": \"ds_staging.features__engagement_first_n_days\",\n",
    "                                                           \"horizon_days\": \"28\"\n",
    "                                                          })"
   ]
  },
  {
   "cell_type": "code",
   "execution_count": 0,
   "metadata": {
    "application/vnd.databricks.v1+cell": {
     "cellMetadata": {},
     "inputWidgets": {},
     "nuid": "8c2eb1f8-2e66-4c1b-8d06-021bcc19b244",
     "showTitle": false,
     "title": ""
    }
   },
   "outputs": [],
   "source": [
    "dbutils.notebook.run(\"prod__first-n-day-features\", 60*45, {\"specified_date\":                DATE_7DAYS_AGO,\n",
    "                                                           \"event_feature_table_name\":      \"ds_staging.features__events_first_7_days\",\n",
    "                                                           \"engagement_feature_table_name\": \"ds_staging.features__engagement_first_7_days\",\n",
    "                                                           \"horizon_days\": \"7\"\n",
    "                                                          })"
   ]
  }
 ],
 "metadata": {
  "application/vnd.databricks.v1+notebook": {
   "dashboards": [],
   "language": "python",
   "notebookMetadata": {},
   "notebookName": "_prod__first-n-day-features-job-script",
   "widgets": {}
  }
 },
 "nbformat": 4,
 "nbformat_minor": 0
}
