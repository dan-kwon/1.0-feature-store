{
 "cells": [
  {
   "cell_type": "markdown",
   "metadata": {
    "application/vnd.databricks.v1+cell": {
     "cellMetadata": {},
     "inputWidgets": {},
     "nuid": "6a691f54-ec6e-4729-b03b-ca40834e0d43",
     "showTitle": false,
     "title": ""
    }
   },
   "source": [
    "## DS first-n-day features\n",
    "A variety of helpful aggregated tables that hold data and features used in various data science models"
   ]
  },
  {
   "cell_type": "markdown",
   "metadata": {
    "application/vnd.databricks.v1+cell": {
     "cellMetadata": {},
     "inputWidgets": {},
     "nuid": "dbc0efbd-852f-4513-9a47-759da9dd38fb",
     "showTitle": false,
     "title": ""
    }
   },
   "source": [
    "#### Load necessary UDFs and libraries"
   ]
  },
  {
   "cell_type": "code",
   "execution_count": 0,
   "metadata": {
    "application/vnd.databricks.v1+cell": {
     "cellMetadata": {},
     "inputWidgets": {},
     "nuid": "70b48e6c-0c5d-4935-994d-6d582dba7e69",
     "showTitle": false,
     "title": ""
    }
   },
   "outputs": [],
   "source": [
    "%run \"./prod__helper_library\""
   ]
  },
  {
   "cell_type": "code",
   "execution_count": 0,
   "metadata": {
    "application/vnd.databricks.v1+cell": {
     "cellMetadata": {},
     "inputWidgets": {},
     "nuid": "881f6060-40e2-4554-8ca6-dd63a7deefb8",
     "showTitle": false,
     "title": ""
    }
   },
   "outputs": [],
   "source": [
    "# libraries\n",
    "import numpy as np\n",
    "import pandas as pd\n",
    "from datetime import datetime\n",
    "from pyspark.sql import functions as F\n",
    "from dateutil.relativedelta import relativedelta\n",
    "# global variables\n",
    "today = datetime.today()"
   ]
  },
  {
   "cell_type": "markdown",
   "metadata": {
    "application/vnd.databricks.v1+cell": {
     "cellMetadata": {},
     "inputWidgets": {},
     "nuid": "8c88cd79-cd42-4ec6-a973-4781f16831ae",
     "showTitle": false,
     "title": ""
    }
   },
   "source": [
    "#### Set date"
   ]
  },
  {
   "cell_type": "code",
   "execution_count": 0,
   "metadata": {
    "application/vnd.databricks.v1+cell": {
     "cellMetadata": {},
     "inputWidgets": {},
     "nuid": "0296d20e-9c53-47e8-bfa5-0ac519f3a600",
     "showTitle": false,
     "title": ""
    }
   },
   "outputs": [],
   "source": [
    "dbutils.widgets.removeAll()"
   ]
  },
  {
   "cell_type": "code",
   "execution_count": 0,
   "metadata": {
    "application/vnd.databricks.v1+cell": {
     "cellMetadata": {},
     "inputWidgets": {},
     "nuid": "f9e8b62a-b68c-4671-a0fa-264c2cdbd5e5",
     "showTitle": false,
     "title": ""
    }
   },
   "outputs": [],
   "source": [
    "dbutils.widgets.text(name=\"specified_date\", \n",
    "                     defaultValue=str(today.date() - relativedelta(days=28)), \n",
    "                     label=\"Specified Date\")\n",
    "\n",
    "dbutils.widgets.dropdown(name=\"horizon_days\",\n",
    "                         defaultValue=str(28), \n",
    "                         choices=[str(i) for i in pd.Series(np.arange(7,29,1))],\n",
    "                         label=\"Horizon Days\")\n",
    "\n",
    "dbutils.widgets.text(name=\"event_feature_table_name\", \n",
    "                     defaultValue=\"ds_staging.features__event_first_n_days\", \n",
    "                     label=\"Destination Event Feature Table Name\")\n",
    "\n",
    "dbutils.widgets.text(name=\"engagement_feature_table_name\", \n",
    "                     defaultValue=\"ds_staging.features__engagement_first_n_days\", \n",
    "                     label=\"Destination Engagement Feature Table Name\")"
   ]
  },
  {
   "cell_type": "code",
   "execution_count": 0,
   "metadata": {
    "application/vnd.databricks.v1+cell": {
     "cellMetadata": {},
     "inputWidgets": {},
     "nuid": "6a7ddb38-f5ed-4189-9f80-07ed5e347483",
     "showTitle": false,
     "title": ""
    }
   },
   "outputs": [],
   "source": [
    "SIGNUP_DATE           = dbutils.widgets.get(\"specified_date\")\n",
    "HORIZON_DAYS          = int(dbutils.widgets.get(\"horizon_days\"))\n",
    "EVENT_TABLE_NAME      = dbutils.widgets.get(\"event_feature_table_name\")\n",
    "ENGAGEMENT_TABLE_NAME = dbutils.widgets.get(\"engagement_feature_table_name\")"
   ]
  },
  {
   "cell_type": "markdown",
   "metadata": {
    "application/vnd.databricks.v1+cell": {
     "cellMetadata": {},
     "inputWidgets": {},
     "nuid": "04b6bef3-6d32-4f6b-9b7f-33120161c4e9",
     "showTitle": false,
     "title": ""
    }
   },
   "source": [
    "#### Create engagement features"
   ]
  },
  {
   "cell_type": "code",
   "execution_count": 0,
   "metadata": {
    "application/vnd.databricks.v1+cell": {
     "cellMetadata": {},
     "inputWidgets": {},
     "nuid": "9bdc5b9b-68ca-4deb-9bc6-0da46683cc32",
     "showTitle": false,
     "title": ""
    }
   },
   "outputs": [],
   "source": [
    "[today.date() - timedelta(days=x+28) for x in range(4)] "
   ]
  },
  {
   "cell_type": "code",
   "execution_count": 0,
   "metadata": {
    "application/vnd.databricks.v1+cell": {
     "cellMetadata": {},
     "inputWidgets": {},
     "nuid": "626ced9a-4522-44aa-9915-addf2a886163",
     "showTitle": false,
     "title": ""
    }
   },
   "outputs": [],
   "source": [
    "# new users\n",
    "spark.conf.set(\"spark.sql.autoBroadcastJoinThreshold\", -1)\n",
    "\n",
    "for i in [SIGNUP_DATE]: #[today.date() - timedelta(days=x+28) for x in range(4)]\n",
    "  signup_date = str(i)\n",
    "  df1 = get_early_engagement(HORIZON_DAYS, signup_date)\n",
    "  df1 = df1 \\\n",
    "    .groupBy(\"hs_user_id\",\"signup_date\") \\\n",
    "    .pivot(\"days_from_signup\") \\\n",
    "    .agg(*[F.sum(x).alias(x) for x in df1.columns if x not in {\"hs_user_id\",\n",
    "                                                               \"signup_date\",\n",
    "                                                               \"free_trial_start_date\",\n",
    "                                                               \"free_trial_end_date\",\n",
    "                                                               \"paid_subscription_start_date\",\n",
    "                                                               \"paid_subscription_end_date\",\n",
    "                                                               \"days_from_signup\"}])\n",
    "  \n",
    "  df2 = get_early_distinct_engagement(HORIZON_DAYS-1, signup_date) \n",
    "  df2 = df2 \\\n",
    "    .groupBy(\"hs_user_id\",\"signup_date\") \\\n",
    "    .pivot(\"weeks_from_signup\") \\\n",
    "    .agg(*[F.sum(x).alias(x) for x in df2.columns if x not in {\"hs_user_id\",\n",
    "                                                               \"signup_date\",\n",
    "                                                               \"weeks_from_signup\",\n",
    "                                                               \"free_trial_start_date\",\n",
    "                                                               \"free_trial_end_date\",\n",
    "                                                               \"paid_subscription_start_date\",\n",
    "                                                               \"paid_subscription_end_date\",\n",
    "                                                               \"days_from_signup\"}])\n",
    "  \n",
    "  df3 = df1.join(df2, how='left', on=['hs_user_id','signup_date'])\n",
    "  df3.na.fill(0) \\\n",
    "    .write \\\n",
    "    .mode('append') \\\n",
    "    .option(\"mergeSchema\", \"true\") \\\n",
    "    .saveAsTable(ENGAGEMENT_TABLE_NAME)"
   ]
  },
  {
   "cell_type": "markdown",
   "metadata": {
    "application/vnd.databricks.v1+cell": {
     "cellMetadata": {},
     "inputWidgets": {},
     "nuid": "f3b1e9b4-f36e-4a94-83e9-cfc46a85a4d8",
     "showTitle": false,
     "title": ""
    }
   },
   "source": [
    "#### Create event features"
   ]
  },
  {
   "cell_type": "code",
   "execution_count": 0,
   "metadata": {
    "application/vnd.databricks.v1+cell": {
     "cellMetadata": {},
     "inputWidgets": {},
     "nuid": "eb1f4fe3-3b8b-4999-ad49-6be62595c80a",
     "showTitle": false,
     "title": ""
    }
   },
   "outputs": [],
   "source": [
    "# new users\n",
    "spark.conf.set(\"spark.sql.autoBroadcastJoinThreshold\", -1)\n",
    "\n",
    "for i in [SIGNUP_DATE]: #[today.date() - timedelta(days=x+28) for x in range(4)]\n",
    "  signup_date = str(i)\n",
    "  df1 = get_early_events(HORIZON_DAYS, signup_date)\n",
    "  df1 = df1 \\\n",
    "    .groupBy(\"hs_user_id\",\"signup_date\") \\\n",
    "    .pivot(\"days_from_signup\") \\\n",
    "    .agg(*[F.sum(x).alias(x) for x in df1.columns if x not in {\"hs_user_id\",\n",
    "                                                               \"signup_date\",\n",
    "                                                               \"free_trial_start_date\",\n",
    "                                                               \"free_trial_end_date\",\n",
    "                                                               \"paid_subscription_start_date\",\n",
    "                                                               \"paid_subscription_end_date\",\n",
    "                                                               \"days_from_signup\"}])\n",
    "  \n",
    "  df2 = get_early_distinct_events(HORIZON_DAYS-1, signup_date) \n",
    "  df2 = df2 \\\n",
    "    .groupBy(\"hs_user_id\",\"signup_date\") \\\n",
    "    .pivot(\"weeks_from_signup\") \\\n",
    "    .agg(*[F.sum(x).alias(x) for x in df2.columns if x not in {\"hs_user_id\",\n",
    "                                                               \"signup_date\",\n",
    "                                                               \"weeks_from_signup\",\n",
    "                                                               \"free_trial_start_date\",\n",
    "                                                               \"free_trial_end_date\",\n",
    "                                                               \"paid_subscription_start_date\",\n",
    "                                                               \"paid_subscription_end_date\",\n",
    "                                                               \"days_from_signup\"}])\n",
    "  \n",
    "  df3 = df1.join(df2, how='left', on=['hs_user_id','signup_date'])\n",
    "  df3.na.fill(0) \\\n",
    "    .write \\\n",
    "    .mode('append') \\\n",
    "    .option(\"mergeSchema\", \"true\") \\\n",
    "    .saveAsTable(EVENT_TABLE_NAME)"
   ]
  },
  {
   "cell_type": "code",
   "execution_count": 0,
   "metadata": {
    "application/vnd.databricks.v1+cell": {
     "cellMetadata": {},
     "inputWidgets": {},
     "nuid": "c7465569-8a3f-4c87-8fa8-28c9849d48c3",
     "showTitle": false,
     "title": ""
    }
   },
   "outputs": [],
   "source": []
  }
 ],
 "metadata": {
  "application/vnd.databricks.v1+notebook": {
   "dashboards": [],
   "language": "python",
   "notebookMetadata": {},
   "notebookName": "prod__first-n-day-features",
   "widgets": {}
  }
 },
 "nbformat": 4,
 "nbformat_minor": 0
}
