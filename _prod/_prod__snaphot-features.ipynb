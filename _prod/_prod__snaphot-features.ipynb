{
 "cells": [
  {
   "cell_type": "markdown",
   "metadata": {
    "application/vnd.databricks.v1+cell": {
     "cellMetadata": {},
     "inputWidgets": {},
     "nuid": "9cbb22cf-077e-4274-8d87-56b1cd0505a6",
     "showTitle": false,
     "title": ""
    }
   },
   "source": [
    "## DS first-n-day features\n",
    "A variety of helpful aggregated tables that hold data and features used in various data science models"
   ]
  },
  {
   "cell_type": "markdown",
   "metadata": {
    "application/vnd.databricks.v1+cell": {
     "cellMetadata": {},
     "inputWidgets": {},
     "nuid": "70069a3e-8691-49ee-a47f-e38719a618f3",
     "showTitle": false,
     "title": ""
    }
   },
   "source": [
    "#### Load necessary UDFs and libraries"
   ]
  },
  {
   "cell_type": "code",
   "execution_count": 0,
   "metadata": {
    "application/vnd.databricks.v1+cell": {
     "cellMetadata": {},
     "inputWidgets": {},
     "nuid": "0f118c30-d87c-4b6d-b570-2d5e780442bd",
     "showTitle": false,
     "title": ""
    }
   },
   "outputs": [],
   "source": [
    "%run \"./_udf__snapshot-features\""
   ]
  },
  {
   "cell_type": "code",
   "execution_count": 0,
   "metadata": {
    "application/vnd.databricks.v1+cell": {
     "cellMetadata": {},
     "inputWidgets": {},
     "nuid": "e787e878-ef5c-4b6d-9a85-e725ad6f5014",
     "showTitle": false,
     "title": ""
    }
   },
   "outputs": [],
   "source": [
    "# libraries\n",
    "import numpy as np\n",
    "import pandas as pd\n",
    "from datetime import datetime\n",
    "from pyspark.sql import functions as F\n",
    "from dateutil.relativedelta import relativedelta\n",
    "# global variables\n",
    "today = datetime.today()"
   ]
  },
  {
   "cell_type": "markdown",
   "metadata": {
    "application/vnd.databricks.v1+cell": {
     "cellMetadata": {},
     "inputWidgets": {},
     "nuid": "262b65a0-4209-4036-bc01-280c72813654",
     "showTitle": false,
     "title": ""
    }
   },
   "source": [
    "#### Set date"
   ]
  },
  {
   "cell_type": "code",
   "execution_count": 0,
   "metadata": {
    "application/vnd.databricks.v1+cell": {
     "cellMetadata": {},
     "inputWidgets": {},
     "nuid": "1bc41eff-937a-495e-b142-efafc19374e4",
     "showTitle": false,
     "title": ""
    }
   },
   "outputs": [],
   "source": [
    "dbutils.widgets.removeAll()"
   ]
  },
  {
   "cell_type": "code",
   "execution_count": 0,
   "metadata": {
    "application/vnd.databricks.v1+cell": {
     "cellMetadata": {},
     "inputWidgets": {},
     "nuid": "e82223f4-2b16-4216-9436-779b47c9f6aa",
     "showTitle": false,
     "title": ""
    }
   },
   "outputs": [],
   "source": [
    "dbutils.widgets.text(name=\"snapshot_date\", \n",
    "                     defaultValue=str(today.date()), \n",
    "                     label=\"Snapshot Date\")\n",
    "\n",
    "dbutils.widgets.text(name=\"horizon_weeks\",\n",
    "                     defaultValue=str(52), \n",
    "                     label=\"Horizon Weeks\")\n",
    "\n",
    "dbutils.widgets.text(name=\"event_feature_table_name\", \n",
    "                     defaultValue=\"ds_staging.features__events_snapshot\", \n",
    "                     label=\"Destination Event Feature Table Name\")\n",
    "\n",
    "dbutils.widgets.text(name=\"engagement_feature_table_name\", \n",
    "                     defaultValue=\"ds_staging.features__engagement_snapshot\", \n",
    "                     label=\"Destination Engagement Feature Table Name\")"
   ]
  },
  {
   "cell_type": "code",
   "execution_count": 0,
   "metadata": {
    "application/vnd.databricks.v1+cell": {
     "cellMetadata": {},
     "inputWidgets": {},
     "nuid": "ab67625d-af5f-4c3e-931d-fc6c7af4a012",
     "showTitle": false,
     "title": ""
    }
   },
   "outputs": [],
   "source": [
    "SNAPSHOT_DATE         = dbutils.widgets.get(\"snapshot_date\")\n",
    "HORIZON_WEEKS         = int(dbutils.widgets.get(\"horizon_weeks\"))\n",
    "EVENT_TABLE_NAME      = dbutils.widgets.get(\"event_feature_table_name\")\n",
    "ENGAGEMENT_TABLE_NAME = dbutils.widgets.get(\"engagement_feature_table_name\")"
   ]
  },
  {
   "cell_type": "markdown",
   "metadata": {
    "application/vnd.databricks.v1+cell": {
     "cellMetadata": {},
     "inputWidgets": {},
     "nuid": "991ad73e-be21-42ee-9f3f-3a366a72f910",
     "showTitle": false,
     "title": ""
    }
   },
   "source": [
    "#### Create engagement features"
   ]
  },
  {
   "cell_type": "code",
   "execution_count": 0,
   "metadata": {
    "application/vnd.databricks.v1+cell": {
     "cellMetadata": {},
     "inputWidgets": {},
     "nuid": "80600ac1-62bd-4b0d-8cb8-5a5da373b70a",
     "showTitle": false,
     "title": ""
    }
   },
   "outputs": [],
   "source": [
    "spark.conf.set(\"spark.sql.autoBroadcastJoinThreshold\", -1)\n",
    "\n",
    "for i in [SNAPSHOT_DATE]: #[pd.to_datetime('2022-06-24').date() - timedelta(days=x) for x in range(4)]\n",
    "  snapshot_date = str(i)\n",
    "  df1 = get_engagement(HORIZON_WEEKS, snapshot_date)\n",
    "  df1 = df1 \\\n",
    "    .groupBy(\"hs_user_id\",\"snapshot_date\") \\\n",
    "    .pivot(\"weeks_before_snapshot\") \\\n",
    "    .agg(*[F.sum(x).alias(x) for x in df1.columns if x not in {\"hs_user_id\",\n",
    "                                                               \"snapshot_date\",\n",
    "                                                               \"weeks_before_snapshot\"}])\n",
    "  \n",
    "  df2 = get_longest_streak(52, snapshot_date) \n",
    "  df3 = get_days_since_last_playback(52, snapshot_date) \n",
    "  df4 = df1 \\\n",
    "    .join(df2, how='left', on=['hs_user_id','snapshot_date']) \\\n",
    "    .join(df3, how='left', on=['hs_user_id','snapshot_date'])\n",
    "  df4 \\\n",
    "    .write \\\n",
    "    .mode('append') \\\n",
    "    .saveAsTable(ENGAGEMENT_TABLE_NAME)\n",
    "    #.option(\"mergeSchema\", \"true\") \\\n"
   ]
  },
  {
   "cell_type": "markdown",
   "metadata": {
    "application/vnd.databricks.v1+cell": {
     "cellMetadata": {},
     "inputWidgets": {},
     "nuid": "c68dfe40-e628-4f2c-b4bf-8648b9d43e0b",
     "showTitle": false,
     "title": ""
    }
   },
   "source": [
    "#### Create event features"
   ]
  },
  {
   "cell_type": "code",
   "execution_count": 0,
   "metadata": {
    "application/vnd.databricks.v1+cell": {
     "cellMetadata": {},
     "inputWidgets": {},
     "nuid": "d47aaddd-641a-4a4b-bd82-6e7b3fd49024",
     "showTitle": false,
     "title": ""
    }
   },
   "outputs": [],
   "source": [
    "spark.conf.set(\"spark.sql.autoBroadcastJoinThreshold\", -1)\n",
    "\n",
    "for i in [SNAPSHOT_DATE]: #[pd.to_datetime('2022-06-24').date() - timedelta(days=x) for x in range(4)]\n",
    "  snapshot_date = str(i)\n",
    "  df1 = get_amplitude_events(HORIZON_WEEKS, snapshot_date)\n",
    "  df1 = df1 \\\n",
    "    .groupBy(\"hs_user_id\",\"snapshot_date\") \\\n",
    "    .pivot(\"weeks_before_snapshot\") \\\n",
    "    .agg(*[F.sum(x).alias(x) for x in df1.columns if x not in {\"hs_user_id\",\n",
    "                                                               \"snapshot_date\",\n",
    "                                                               \"weeks_before_snapshot\"}])\n",
    "  \n",
    "  df2 = get_braze_events(HORIZON_WEEKS, snapshot_date) \n",
    "  df2 = df2 \\\n",
    "    .groupBy(\"hs_user_id\",\"snapshot_date\") \\\n",
    "    .pivot(\"weeks_before_snapshot\") \\\n",
    "    .agg(*[F.sum(x).alias(x) for x in df2.columns if x not in {\"hs_user_id\",\n",
    "                                                               \"snapshot_date\",\n",
    "                                                               \"weeks_before_snapshot\"}])\n",
    "  \n",
    "  df3 = df1.join(df2, how='left', on=['hs_user_id','snapshot_date'])\n",
    "  df3 \\\n",
    "    .write \\\n",
    "    .mode('append') \\\n",
    "    .saveAsTable(EVENT_TABLE_NAME)\n",
    "    #.option(\"mergeSchema\", \"true\") \\"
   ]
  }
 ],
 "metadata": {
  "application/vnd.databricks.v1+notebook": {
   "dashboards": [],
   "language": "python",
   "notebookMetadata": {},
   "notebookName": "_prod__snaphot-features",
   "widgets": {}
  }
 },
 "nbformat": 4,
 "nbformat_minor": 0
}
