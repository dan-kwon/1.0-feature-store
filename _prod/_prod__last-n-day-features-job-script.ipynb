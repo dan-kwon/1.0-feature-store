{
 "cells": [
  {
   "cell_type": "code",
   "execution_count": 0,
   "metadata": {
    "application/vnd.databricks.v1+cell": {
     "cellMetadata": {},
     "inputWidgets": {},
     "nuid": "1034d105-4b2c-4047-906b-c4f2bd103c6c",
     "showTitle": false,
     "title": ""
    }
   },
   "outputs": [],
   "source": [
    "# libraries\n",
    "import pandas as pd\n",
    "from datetime import datetime, timedelta\n",
    "from pyspark.sql import functions as F\n",
    "from dateutil.relativedelta import relativedelta\n",
    "# global variables\n",
    "today = datetime.today()"
   ]
  },
  {
   "cell_type": "code",
   "execution_count": 0,
   "metadata": {
    "application/vnd.databricks.v1+cell": {
     "cellMetadata": {},
     "inputWidgets": {},
     "nuid": "5ef064bf-a180-4feb-bb4e-203b1b29121a",
     "showTitle": false,
     "title": ""
    }
   },
   "outputs": [],
   "source": [
    "DATE_1DAYS_AGO = str(today.date() - relativedelta(days=1))"
   ]
  },
  {
   "cell_type": "code",
   "execution_count": 0,
   "metadata": {
    "application/vnd.databricks.v1+cell": {
     "cellMetadata": {},
     "inputWidgets": {},
     "nuid": "c5a72380-fba7-48a4-b8c6-f3226ee56e48",
     "showTitle": false,
     "title": ""
    }
   },
   "outputs": [],
   "source": [
    "dbutils.notebook.run(\"prod__last-n-day-features\", 60*45, {\"specified_date\":                DATE_1DAYS_AGO,\n",
    "                                                          \"event_feature_table_name\":      \"ds_staging.features__events_last_n_days\",\n",
    "                                                          \"engagement_feature_table_name\": \"ds_staging.features__engagement_last_n_days\",\n",
    "                                                          \"horizon_days\": \"56\"\n",
    "                                                         })"
   ]
  },
  {
   "cell_type": "code",
   "execution_count": 0,
   "metadata": {
    "application/vnd.databricks.v1+cell": {
     "cellMetadata": {},
     "inputWidgets": {},
     "nuid": "61b2b8b7-5cfd-4908-844e-9f0a88b72172",
     "showTitle": false,
     "title": ""
    }
   },
   "outputs": [],
   "source": [
    "# backfill (comment out after running and deploying to prod)\n",
    "#for i in [pd.to_datetime(\"2022-06-04\").date() - timedelta(days=x) for x in range(3)]:\n",
    "#  dbutils.notebook.run(\"prod__last-n-day-features\", 60*45, {\"specified_date\":              str(i),\n",
    "#                                                             \"event_feature_table_name\":      \"ds_staging.features__events_last_n_days\",\n",
    "#                                                             \"engagement_feature_table_name\": \"ds_staging.features__engagement_last_n_days\",\n",
    "#                                                             \"horizon_days\": \"56\"\n",
    "#                                                              })"
   ]
  }
 ],
 "metadata": {
  "application/vnd.databricks.v1+notebook": {
   "dashboards": [],
   "language": "python",
   "notebookMetadata": {},
   "notebookName": "_prod__last-n-day-features-job-script",
   "widgets": {}
  }
 },
 "nbformat": 4,
 "nbformat_minor": 0
}
